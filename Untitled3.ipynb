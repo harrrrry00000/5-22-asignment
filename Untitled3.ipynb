{
  "nbformat": 4,
  "nbformat_minor": 0,
  "metadata": {
    "colab": {
      "provenance": [],
      "authorship_tag": "ABX9TyMdTWzTT/3VHKWbUlpmUAGV",
      "include_colab_link": true
    },
    "kernelspec": {
      "name": "python3",
      "display_name": "Python 3"
    },
    "language_info": {
      "name": "python"
    }
  },
  "cells": [
    {
      "cell_type": "markdown",
      "metadata": {
        "id": "view-in-github",
        "colab_type": "text"
      },
      "source": [
        "<a href=\"https://colab.research.google.com/github/harrrrry00000/5-22-asignment/blob/main/Untitled3.ipynb\" target=\"_parent\"><img src=\"https://colab.research.google.com/assets/colab-badge.svg\" alt=\"Open In Colab\"/></a>"
      ]
    },
    {
      "cell_type": "code",
      "execution_count": null,
      "metadata": {
        "id": "Tzy6f6U9btE-",
        "outputId": "f4e4d725-89a2-41c7-a5e0-0dea38623706",
        "colab": {
          "base_uri": "https://localhost:8080/"
        }
      },
      "outputs": [
        {
          "output_type": "stream",
          "name": "stdout",
          "text": [
            "DOG\n",
            "dog\n",
            "CAT\n",
            "cat\n",
            "BIRD\n",
            "bird\n",
            "TIGER\n",
            "tiger\n",
            "ELEPHANT\n",
            "elephant\n"
          ]
        }
      ],
      "source": [
        "zoo_animals = [\"Dog\", \"Cat\", \"Bird\", \"Tiger\", \"Elephant\"]\n",
        "\n",
        "def uppertext(a):\n",
        "  return a.upper()\n",
        "\n",
        "def lowertext(a):\n",
        "  return a.lower()\n",
        "\n",
        "for x in zoo_animals:\n",
        "  print(uppertext(x))\n",
        "  print(lowertext(x))"
      ]
    }
  ]
}